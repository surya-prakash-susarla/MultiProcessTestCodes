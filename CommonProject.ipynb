{
  "nbformat": 4,
  "nbformat_minor": 0,
  "metadata": {
    "colab": {
      "provenance": [],
      "include_colab_link": true
    },
    "kernelspec": {
      "name": "python3",
      "display_name": "Python 3"
    },
    "language_info": {
      "name": "python"
    }
  },
  "cells": [
    {
      "cell_type": "markdown",
      "metadata": {
        "id": "view-in-github",
        "colab_type": "text"
      },
      "source": [
        "<a href=\"https://colab.research.google.com/github/surya-prakash-susarla/MultiProcessTestCodes/blob/master/CommonProject.ipynb\" target=\"_parent\"><img src=\"https://colab.research.google.com/assets/colab-badge.svg\" alt=\"Open In Colab\"/></a>"
      ]
    },
    {
      "cell_type": "code",
      "source": [
        "from google.colab import drive\n",
        "drive.mount('/content/drive')\n",
        "\n",
        "k_training_data_path = '/content/drive/MyDrive/ECE542_sp2022_Project_TerrainRecognition/TrainingData/'\n",
        "k_testing_data_path = '/content/drive/MyDrive/ECE542_sp2022_Project_TerrainRecognition/TestData/'"
      ],
      "metadata": {
        "id": "KjoyLSnZuGgT",
        "colab": {
          "base_uri": "https://localhost:8080/"
        },
        "outputId": "7494dde7-b1ea-412b-fd6d-62b440383af5"
      },
      "execution_count": 379,
      "outputs": [
        {
          "output_type": "stream",
          "name": "stdout",
          "text": [
            "Drive already mounted at /content/drive; to attempt to forcibly remount, call drive.mount(\"/content/drive\", force_remount=True).\n"
          ]
        }
      ]
    },
    {
      "cell_type": "code",
      "source": [
        "import os\n",
        "\n",
        "training_data_files = os.listdir(k_training_data_path)\n",
        "testing_data_files = os.listdir(k_testing_data_path)\n",
        "\n",
        "print('Total training data files found : ', len(training_data_files))\n",
        "print('Total test data files found : ', len(testing_data_files))"
      ],
      "metadata": {
        "id": "O1JYNMMHuIkd",
        "colab": {
          "base_uri": "https://localhost:8080/"
        },
        "outputId": "4fb53942-283e-475c-ab3d-4dedb142aed6"
      },
      "execution_count": 380,
      "outputs": [
        {
          "output_type": "stream",
          "name": "stdout",
          "text": [
            "Total training data files found :  116\n",
            "Total test data files found :  12\n"
          ]
        }
      ]
    },
    {
      "cell_type": "code",
      "source": [
        "import glob\n",
        "\n",
        "# Training data only.\n",
        "x_value_paths = glob.glob( k_training_data_path + '*_x.csv')\n",
        "x_time_paths = glob.glob( k_training_data_path + '*__x_time.csv')\n",
        "\n",
        "y_value_paths = glob.glob( k_training_data_path + '*_y.csv')\n",
        "y_time_paths = glob.glob ( k_training_data_path + '*__y_time.csv')\n",
        "\n",
        "x_value_paths.sort()\n",
        "x_time_paths.sort()\n",
        "y_value_paths.sort()\n",
        "y_time_paths.sort()\n",
        "\n",
        "print('x reading files : ', len(x_value_paths))\n",
        "print('x time files : ', len(x_time_paths))\n",
        "\n",
        "print('y value files : ', len(y_value_paths))\n",
        "print('y time files : ', len(y_time_paths))"
      ],
      "metadata": {
        "colab": {
          "base_uri": "https://localhost:8080/"
        },
        "id": "lmtwzHs9vUZg",
        "outputId": "3af72df1-6af0-401d-ee62-1a4243ef0441"
      },
      "execution_count": 381,
      "outputs": [
        {
          "output_type": "stream",
          "name": "stdout",
          "text": [
            "x reading files :  29\n",
            "x time files :  29\n",
            "y value files :  29\n",
            "y time files :  29\n"
          ]
        }
      ]
    },
    {
      "cell_type": "code",
      "source": [
        "import pandas as pd\n",
        "import numpy as np\n",
        "\n",
        "def merge_csv_files(filepaths):\n",
        "  result = pd.DataFrame()\n",
        "  for path in filepaths:\n",
        "    incoming_data = pd.read_csv(path)\n",
        "    if result.size == 0:\n",
        "      result = pd.DataFrame(np.array(incoming_data.values))\n",
        "    else:\n",
        "      result = pd.DataFrame(np.concatenate((result.values, incoming_data.values), axis=0))\n",
        "  return result\n",
        "\n",
        "# _x files\n",
        "data_x = merge_csv_files(x_value_paths)\n",
        "print(\"Entries in data_x - \", len(data_x))\n",
        "\n",
        "# _x_time files\n",
        "data_x_time = merge_csv_files(x_time_paths)\n",
        "print(\"Entries in data_x_time - \", len(data_x_time))\n",
        "\n",
        "# _y files\n",
        "data_y = merge_csv_files(y_value_paths)\n",
        "print(\"Entries in data_y - \", len(data_y))\n",
        "\n",
        "# _x_time files\n",
        "data_y_time = merge_csv_files(y_time_paths)\n",
        "print(\"Entries in data_y_time - \", len(data_y_time))"
      ],
      "metadata": {
        "id": "0UNojAsfy288",
        "colab": {
          "base_uri": "https://localhost:8080/"
        },
        "outputId": "42702e61-a8b3-4cbd-9f59-49869103ee46"
      },
      "execution_count": 382,
      "outputs": [
        {
          "output_type": "stream",
          "name": "stdout",
          "text": [
            "Entries in data_x -  1341617\n",
            "Entries in data_x_time -  1341617\n",
            "Entries in data_y -  335384\n",
            "Entries in data_y_time -  335384\n"
          ]
        }
      ]
    },
    {
      "cell_type": "code",
      "source": [
        "# TEST ONLY ( REDUCE DATA FOR QUICK VALIDATION - REMOVE FOR ACTUAL TESTS )\n",
        "\n",
        "rs = .5\n",
        "\n",
        "data_x = data_x[:(int)(len(data_x)*rs)]\n",
        "data_x_time = data_x_time[:(int)(len(data_x_time)*rs)]\n",
        "data_y = data_y[:(int)(len(data_y)*rs)]\n",
        "data_y_time = data_y_time[:(int)(len(data_y_time)*rs)]\n",
        "\n",
        "\n",
        "print('reduced data size : ')\n",
        "print(len(data_x))\n",
        "print(len(data_x_time))\n",
        "print(len(data_y))\n",
        "print(len(data_y_time))\n"
      ],
      "metadata": {
        "colab": {
          "base_uri": "https://localhost:8080/"
        },
        "id": "nzs7oAS97aXP",
        "outputId": "a7d8ac36-8b91-4e78-af47-399e68e4f6b9"
      },
      "execution_count": 383,
      "outputs": [
        {
          "output_type": "stream",
          "name": "stdout",
          "text": [
            "reduced data size : \n",
            "670808\n",
            "670808\n",
            "167692\n",
            "167692\n"
          ]
        }
      ]
    },
    {
      "cell_type": "code",
      "source": [
        "import numpy as np\n",
        "\n",
        "# Pick every 4th element in the x values\n",
        "data_x_pruned = data_x.iloc[::4, :]\n",
        "\n",
        "print('original size : ', len(data_x))\n",
        "print(\"expected size : \", len(data_x)/4)\n",
        "print('dumb prune size : ', len(data_x_pruned))\n",
        "print('y size : ', len(data_y))\n",
        "print('gap : ', len(data_x_pruned) - len(data_y))\n",
        "\n",
        "data_x_pruned = data_x_pruned[:-(len(data_x_pruned) - len(data_y))]\n",
        "\n",
        "print('gap with updated size : ', np.abs(len(data_x_pruned) - len(data_y)))"
      ],
      "metadata": {
        "colab": {
          "base_uri": "https://localhost:8080/"
        },
        "id": "MsCaGUZ64PBV",
        "outputId": "7ccf0f4c-2bd8-4696-8040-0e90bf6ab29a"
      },
      "execution_count": 384,
      "outputs": [
        {
          "output_type": "stream",
          "name": "stdout",
          "text": [
            "original size :  670808\n",
            "expected size :  167702.0\n",
            "dumb prune size :  167702\n",
            "y size :  167692\n",
            "gap :  10\n",
            "gap with updated size :  0\n"
          ]
        }
      ]
    },
    {
      "cell_type": "code",
      "source": [
        "import tensorflow as tf\n",
        "from tensorflow import keras\n",
        "from keras import layers"
      ],
      "metadata": {
        "id": "kgHVQ0lf4QAh"
      },
      "execution_count": 385,
      "outputs": []
    },
    {
      "cell_type": "code",
      "source": [
        "from sklearn.model_selection import train_test_split\n",
        "\n",
        "x_train, x_test, y_train, y_test = train_test_split(data_x_pruned, data_y, test_size=0.3, random_state=42)\n",
        "\n",
        "print(\"x train shape : \", x_train.shape)\n",
        "print(\"y train shape : \", y_train.shape)\n",
        "print(\"x test shape : \", x_test.shape)\n",
        "print(\"y test shape : \", y_test.shape)"
      ],
      "metadata": {
        "colab": {
          "base_uri": "https://localhost:8080/"
        },
        "id": "drA96WEJelDy",
        "outputId": "cf4fff8d-0a99-43d2-a247-14531993a379"
      },
      "execution_count": 386,
      "outputs": [
        {
          "output_type": "stream",
          "name": "stdout",
          "text": [
            "x train shape :  (117384, 6)\n",
            "y train shape :  (117384, 1)\n",
            "x test shape :  (50308, 6)\n",
            "y test shape :  (50308, 1)\n"
          ]
        }
      ]
    },
    {
      "cell_type": "code",
      "source": [
        "# model = keras.Sequential()\n",
        "# model.add(layers.Dense(7, input_dim=6))\n",
        "# model.add(layers.Dense(1))\n",
        "# model.build()\n",
        "# model.summary()\n",
        "\n",
        "# model.compile(loss=\"binary_crossentropy\", optimizer=\"adam\", metrics=[\"accuracy\"])\n",
        "\n",
        "# temp = np.array(x_train)\n",
        "\n",
        "# model.fit(x_train, y_train, epochs=1, batch_size=10)\n",
        "# _, acc = model.evaluate(x_test, y_test)\n",
        "# print(\"Model accuracy : \", acc)"
      ],
      "metadata": {
        "id": "r427GhNKfeNL"
      },
      "execution_count": 387,
      "outputs": []
    },
    {
      "cell_type": "code",
      "source": [
        "# Data processing for LSTM windows\n",
        "\n",
        "\n",
        "print(data_x.shape)\n",
        "print(data_x_time.shape)\n",
        "\n",
        "# append timestamp as 0th col\n",
        "# full_x = data_x\n",
        "# full_x.insert(0, 'time', data_x_time)\n",
        "\n",
        "print(data_y.shape)\n",
        "print(data_y_time.shape)\n",
        "\n",
        "# append timestamp as 0th col\n",
        "# full_y = data_y\n",
        "# full_y.insert(0, 'time', data_y_time)\n",
        "\n",
        "# print(\"append shapes\")\n",
        "# print(full_x.shape)\n",
        "# print(full_y.shape)\n",
        "\n",
        "# print(\"sample\")\n",
        "# print(full_x.head(n=20))\n",
        "# print(full_y.head())\n",
        "\n",
        "\n",
        "# for i in range(1, len(data_y_time)):\n",
        "#   if (data_y_time.iloc[i, 0] - data_y_time.iloc[i-1, 0]) > 10:\n",
        "#     print(\"diff > 10 identified for y1 : {}, y2 : {}\".format(data_y_time.iloc[i, 0], data_y_time.iloc[i-1, 0]))\n",
        "\n",
        "print('x sample : ')\n",
        "print(data_x.head())\n",
        "\n",
        "l_x = data_x\n",
        "\n",
        "l_y = []\n",
        "# duplicate y  values\n",
        "i = 0\n",
        "j = 0\n",
        "while True:\n",
        "  if i == len(l_x) or j == len(data_y):\n",
        "    break\n",
        "  if data_y_time.iloc[j, 0] >= l_x.iloc[i, 0]:\n",
        "    l_y.append(data_y.loc[j])\n",
        "    i+=1\n",
        "  else:\n",
        "    j+=1\n",
        "\n",
        "while i != len(l_x):\n",
        "  l_y.append(l_y[-1])\n",
        "  i += 1\n",
        "\n",
        "l_x_train, l_x_test, l_y_train, l_y_test = train_test_split(l_x, l_y, test_size=0.3, random_state=42)"
      ],
      "metadata": {
        "id": "gLjKDtxEQBqQ",
        "colab": {
          "base_uri": "https://localhost:8080/"
        },
        "outputId": "a73ff096-ddbb-4051-95c9-e0bcefa22cd8"
      },
      "execution_count": 388,
      "outputs": [
        {
          "output_type": "stream",
          "name": "stdout",
          "text": [
            "(670808, 6)\n",
            "(670808, 1)\n",
            "(167692, 1)\n",
            "(167692, 1)\n",
            "x sample : \n",
            "          0         1         2         3         4         5\n",
            "0  4.186920  8.344455  2.908057  0.005771 -0.004480 -0.003345\n",
            "1  4.544637  8.408659  2.890000  0.007967  0.022412  0.001159\n",
            "2  4.849308  8.411614  2.900692  0.027778 -0.010670 -0.014223\n",
            "3  4.509190  8.118649  2.847298  0.021577 -0.045498 -0.021111\n",
            "4  4.226515  8.273807  2.851742  0.012534  0.000445 -0.016830\n"
          ]
        }
      ]
    },
    {
      "cell_type": "code",
      "source": [
        "l_y_train = np.array(l_y_train)\n",
        "l_y_test = np.array(l_y_test)\n",
        "\n",
        "print(l_x_train.shape)\n",
        "print(l_y_train.shape)\n",
        "print(l_x_test.shape)\n",
        "print(l_y_test.shape)"
      ],
      "metadata": {
        "colab": {
          "base_uri": "https://localhost:8080/"
        },
        "id": "LR5i1yxJ3ahM",
        "outputId": "17df6a5f-4599-4c9c-b301-b69123347661"
      },
      "execution_count": 389,
      "outputs": [
        {
          "output_type": "stream",
          "name": "stdout",
          "text": [
            "(469565, 6)\n",
            "(469565, 1)\n",
            "(201243, 6)\n",
            "(201243, 1)\n"
          ]
        }
      ]
    },
    {
      "cell_type": "code",
      "source": [
        "l_x_train = pd.DataFrame(l_x_train)\n",
        "l_x_test = pd.DataFrame(l_x_test)\n",
        "\n",
        "print(l_x_train.shape)\n",
        "print(l_x_test.shape)\n",
        "\n",
        "# LSTM only modifications\n",
        "l_x_train = np.reshape(l_x_train.values, (l_x_train.shape[0], 1, l_x_train.shape[1]))\n",
        "l_x_test = np.reshape(l_x_test.values, (l_x_test.shape[0], 1, l_x_test.shape[1]))\n",
        "\n",
        "# temp_x_train = []\n",
        "# temp_x_test = []\n",
        "\n",
        "# print('shape : ', l_x_train.values.shape)\n",
        "\n",
        "# for i in range(0, len(l_x_train), 4):\n",
        "#   temp_x_train = np.append(temp_x_train, l_x_train.values[i:i+4])\n",
        "\n",
        "# for i in range(0, len(l_x_test), 4):\n",
        "#   temp_x_test = np.append(temp_x_test, l_x_test.values[i:i+4])\n",
        "\n",
        "# print(type(temp_x_train[0]))\n",
        "# print(temp_x_train[0])\n",
        "# print(len(temp_x_train))\n",
        "\n",
        "# # temp_x_train = np.array(temp_x_train)\n",
        "# # temp_x_test = np.array(temp_x_test)\n",
        "\n",
        "# l_x_train = temp_x_train\n",
        "# l_x_test = temp_x_test\n",
        "\n",
        "# print(l_x_train.shape)\n",
        "# print(l_x_test.shape)\n",
        "\n",
        "# print(\"updated shape : \", l_x_train.shape)\n",
        "\n",
        "\n",
        "lstm_model = keras.Sequential()\n",
        "lstm_model.add(layers.LSTM(6, input_dim=6))\n",
        "lstm_model.add(layers.Dense(1))\n",
        "lstm_model.compile(loss='mean_squared_error', optimizer='adam')\n",
        "lstm_model.fit(l_x_train, l_y_train, epochs=1, batch_size=2)\n",
        "\n",
        "acc = lstm_model.evaluate(l_x_test, l_y_test)\n",
        "print(\"Model accuracy : \", acc)"
      ],
      "metadata": {
        "colab": {
          "base_uri": "https://localhost:8080/"
        },
        "id": "D_RrAMz5Cx2r",
        "outputId": "9da9fbc8-8954-46e4-e4e1-24cf21e0d53e"
      },
      "execution_count": 390,
      "outputs": [
        {
          "output_type": "stream",
          "name": "stdout",
          "text": [
            "(469565, 6)\n",
            "(201243, 6)\n",
            "234783/234783 [==============================] - 691s 3ms/step - loss: 1.4132e-04\n",
            "6289/6289 [==============================] - 12s 2ms/step - loss: 4.5549e-11\n",
            "Model accuracy :  4.554861349204131e-11\n"
          ]
        }
      ]
    }
  ]
}